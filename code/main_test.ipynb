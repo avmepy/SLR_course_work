{
  "nbformat": 4,
  "nbformat_minor": 0,
  "metadata": {
    "colab": {
      "name": "main_test.ipynb",
      "provenance": [],
      "collapsed_sections": []
    },
    "kernelspec": {
      "name": "python3",
      "display_name": "Python 3"
    },
    "accelerator": "GPU"
  },
  "cells": [
    {
      "cell_type": "markdown",
      "metadata": {
        "id": "DbnT_xsAlgfg",
        "colab_type": "text"
      },
      "source": [
        "# Preparation part"
      ]
    },
    {
      "cell_type": "markdown",
      "metadata": {
        "id": "eKGeZFkpls-E",
        "colab_type": "text"
      },
      "source": [
        "### Mount google drive"
      ]
    },
    {
      "cell_type": "code",
      "metadata": {
        "id": "etL8sBHnhh43",
        "colab_type": "code",
        "outputId": "a2eee25d-3f6e-4e58-b64d-268be16b40dd",
        "colab": {
          "base_uri": "https://localhost:8080/",
          "height": 122
        }
      },
      "source": [
        "from google.colab import drive\n",
        "drive.mount('/content/drive')"
      ],
      "execution_count": 0,
      "outputs": [
        {
          "output_type": "stream",
          "text": [
            "Go to this URL in a browser: https://accounts.google.com/o/oauth2/auth?client_id=947318989803-6bn6qk8qdgf4n4g3pfee6491hc0brc4i.apps.googleusercontent.com&redirect_uri=urn%3aietf%3awg%3aoauth%3a2.0%3aoob&response_type=code&scope=email%20https%3a%2f%2fwww.googleapis.com%2fauth%2fdocs.test%20https%3a%2f%2fwww.googleapis.com%2fauth%2fdrive%20https%3a%2f%2fwww.googleapis.com%2fauth%2fdrive.photos.readonly%20https%3a%2f%2fwww.googleapis.com%2fauth%2fpeopleapi.readonly\n",
            "\n",
            "Enter your authorization code:\n",
            "··········\n",
            "Mounted at /content/drive\n"
          ],
          "name": "stdout"
        }
      ]
    },
    {
      "cell_type": "markdown",
      "metadata": {
        "id": "nESy2I26lxCl",
        "colab_type": "text"
      },
      "source": [
        "### Imports"
      ]
    },
    {
      "cell_type": "code",
      "metadata": {
        "id": "4lf6Ibg5yj9x",
        "colab_type": "code",
        "colab": {}
      },
      "source": [
        "import keras\n",
        "import tensorflow as tf\n",
        "from keras.models import Sequential, Model\n",
        "from keras.layers import Input, Dense\n",
        "from keras.layers import Dropout, Activation, BatchNormalization, Flatten\n",
        "from keras.layers import Conv2D, LSTM\n",
        "from keras.layers import GlobalAveragePooling2D, MaxPooling2D\n",
        "from keras.layers import TimeDistributed\n",
        "from keras.callbacks import ModelCheckpoint, History\n",
        "import os\n",
        "import numpy as np\n",
        "import pylab as plt\n",
        "import pickle\n",
        "from keras import backend as K\n",
        "from sklearn.metrics import confusion_matrix, classification_report\n",
        "from keras.models import load_model\n",
        "\n",
        "import warnings\n",
        "warnings.filterwarnings(action='once')"
      ],
      "execution_count": 0,
      "outputs": []
    },
    {
      "cell_type": "markdown",
      "metadata": {
        "id": "HDfvaRzOlzpD",
        "colab_type": "text"
      },
      "source": [
        "### General plotting settings / functions"
      ]
    },
    {
      "cell_type": "code",
      "metadata": {
        "id": "tE_dviwEjgHV",
        "colab_type": "code",
        "outputId": "c570deb7-2a7b-4969-e01f-28ecbc4f1f4e",
        "colab": {
          "base_uri": "https://localhost:8080/",
          "height": 34
        }
      },
      "source": [
        "plt.gray()\n",
        "\n",
        "def show_plots(title):\n",
        "    # summarize history for accuracy\n",
        "    plt.plot(history.history['categorical_accuracy'])\n",
        "    plt.plot(history.history['val_categorical_accuracy'])\n",
        "    plt.title(title)\n",
        "    plt.ylabel('accuracy')\n",
        "    plt.xlabel('epoch')\n",
        "    plt.legend(['train', 'test'], loc='upper left')\n",
        "    plt.show()\n",
        "    # summarize history for loss\n",
        "    plt.plot(history.history['loss'])\n",
        "    plt.plot(history.history['val_loss'])\n",
        "    plt.title(title)\n",
        "    plt.ylabel('loss')\n",
        "    plt.xlabel('epoch')\n",
        "    plt.legend(['train', 'test'], loc='upper left')\n",
        "    plt.show()"
      ],
      "execution_count": 0,
      "outputs": [
        {
          "output_type": "display_data",
          "data": {
            "text/plain": [
              "<Figure size 432x288 with 0 Axes>"
            ]
          },
          "metadata": {
            "tags": []
          }
        }
      ]
    },
    {
      "cell_type": "markdown",
      "metadata": {
        "id": "iZKZqdCLmlDP",
        "colab_type": "text"
      },
      "source": [
        "### General constants / training settings"
      ]
    },
    {
      "cell_type": "code",
      "metadata": {
        "id": "d4U4boo4mjml",
        "colab_type": "code",
        "colab": {}
      },
      "source": [
        "num_classes = 10\n",
        "use_dropout = True\n",
        "SAMPLES_PER_SIGN = 40\n",
        "save_dir = os.path.join('/content/drive/My Drive/Course_work_SLR', 'saved_models')"
      ],
      "execution_count": 0,
      "outputs": []
    },
    {
      "cell_type": "markdown",
      "metadata": {
        "id": "E_XfnByRjRzr",
        "colab_type": "text"
      },
      "source": [
        "# Work with data"
      ]
    },
    {
      "cell_type": "markdown",
      "metadata": {
        "id": "jUWK444Cjmsh",
        "colab_type": "text"
      },
      "source": [
        "### Load part of the data"
      ]
    },
    {
      "cell_type": "code",
      "metadata": {
        "id": "dfnHH_cCrS-A",
        "colab_type": "code",
        "colab": {}
      },
      "source": [
        "# import Data class from My drive\n",
        "!cp \"/content/drive/My Drive/Course_work_SLR/src/Data.py\" .\n",
        "from Data import Data"
      ],
      "execution_count": 0,
      "outputs": []
    },
    {
      "cell_type": "code",
      "metadata": {
        "id": "CEAo_Iirq6OP",
        "colab_type": "code",
        "colab": {}
      },
      "source": [
        "with open('/content/drive/My Drive/Course_work_SLR/lsa64_raw_dataset/hands_masked/masked_data_10.pkl', 'rb') as file:\n",
        "    data = pickle.load(file)\n",
        "\n",
        "# with open(f'/content/drive/My Drive/Course_work_SLR/lsa64_raw_dataset/hands_masked/first_{num_classes}_masked.pkl', 'rb') as file:\n",
        "#     (x_train, x_test, y_train, y_test) = pickle.load(file)"
      ],
      "execution_count": 0,
      "outputs": []
    },
    {
      "cell_type": "code",
      "metadata": {
        "id": "TAqPvijWPWff",
        "colab_type": "code",
        "colab": {}
      },
      "source": [
        "def prepare_data(data):\n",
        "    x_train, x_test, y_train, y_test = data.x_train, data.x_test, data.y_train, data.y_test\n",
        "    \n",
        "    x_train = x_train.reshape(*x_train.shape, 1)\n",
        "    x_test = x_test.reshape(*x_test.shape, 1)\n",
        "    \n",
        "    # Convert class vectors to binary class matrices.\n",
        "    y_train = keras.utils.to_categorical(y_train, num_classes)\n",
        "    y_test = keras.utils.to_categorical(y_test, num_classes)\n",
        "    return x_train, x_test, y_train, y_test"
      ],
      "execution_count": 0,
      "outputs": []
    },
    {
      "cell_type": "code",
      "metadata": {
        "id": "rUb8hkkqrYJE",
        "colab_type": "code",
        "colab": {}
      },
      "source": [
        "x_train, x_test, y_train, y_test = prepare_data(data)"
      ],
      "execution_count": 0,
      "outputs": []
    },
    {
      "cell_type": "markdown",
      "metadata": {
        "id": "-Nv4rVqFmOQw",
        "colab_type": "text"
      },
      "source": [
        "### Overview"
      ]
    },
    {
      "cell_type": "code",
      "metadata": {
        "id": "wUQ-r0mEKcK9",
        "colab_type": "code",
        "outputId": "13bfd68a-178c-411a-9485-296df1a20e9b",
        "colab": {
          "base_uri": "https://localhost:8080/",
          "height": 68
        }
      },
      "source": [
        "print(\"Train data shape:\", x_train.shape)\n",
        "print(\"Train samples:\", x_train.shape[0])\n",
        "print(\"Test samples:\", x_test.shape[0])"
      ],
      "execution_count": 0,
      "outputs": [
        {
          "output_type": "stream",
          "text": [
            "Train data shape: (400, 10, 212, 380, 1)\n",
            "Train samples: 400\n",
            "Test samples: 100\n"
          ],
          "name": "stdout"
        }
      ]
    },
    {
      "cell_type": "markdown",
      "metadata": {
        "id": "vJ3yRxnarXAw",
        "colab_type": "text"
      },
      "source": [
        "# Work with models"
      ]
    },
    {
      "cell_type": "markdown",
      "metadata": {
        "id": "9cQGu4wusMSc",
        "colab_type": "text"
      },
      "source": [
        "## Model for 16 gestures"
      ]
    },
    {
      "cell_type": "markdown",
      "metadata": {
        "id": "O6hdm20w7Uq2",
        "colab_type": "text"
      },
      "source": [
        "### Initialize model"
      ]
    },
    {
      "cell_type": "code",
      "metadata": {
        "id": "uv5kViNV7Tat",
        "colab_type": "code",
        "colab": {}
      },
      "source": [
        "small_model = Sequential()\n",
        "small_model.add(TimeDistributed(Conv2D(filters=32,\n",
        "                                         kernel_size=(5,5),\n",
        "                                         activation='relu',\n",
        "                                         input_shape=(10, 212, 380, 1))))\n",
        "small_model.add(TimeDistributed(MaxPooling2D(pool_size=(2,2))))\n",
        "small_model.add(TimeDistributed(Dropout(0.25)))\n",
        "small_model.add(TimeDistributed(Conv2D(filters=32,\n",
        "                                         kernel_size=(3,3),\n",
        "                                         activation='relu')))\n",
        "small_model.add(TimeDistributed(MaxPooling2D(pool_size=(2,2))))\n",
        "small_model.add(TimeDistributed(Dropout(0.25)))\n",
        "\n",
        "small_model.add(TimeDistributed(Flatten()))\n",
        "\n",
        "small_model.add(LSTM(64, dropout=0.25))\n",
        "small_model.add(Dropout(0.25))\n",
        "\n",
        "small_model.add(Dense(256, activation='relu'))\n",
        "small_model.add(Dense(num_classes, activation='softmax'))\n",
        "\n",
        "small_model.compile(\n",
        "    loss='categorical_crossentropy',\n",
        "    optimizer='adam',\n",
        "    metrics=['categorical_accuracy']\n",
        ")"
      ],
      "execution_count": 0,
      "outputs": []
    },
    {
      "cell_type": "markdown",
      "metadata": {
        "id": "TAAu43KKk6ue",
        "colab_type": "text"
      },
      "source": [
        "### Training"
      ]
    },
    {
      "cell_type": "code",
      "metadata": {
        "id": "X0mKfbW_VWGV",
        "colab_type": "code",
        "colab": {}
      },
      "source": [
        "checkpoint = ModelCheckpoint(os.path.join(save_dir, 'small_model_weights.h5'),\n",
        "                             monitor='categorical_accuracy',\n",
        "                             verbose=1, save_best_only=True, mode='max')\n",
        "history = History()\n",
        "callbacks_list = [checkpoint, history]"
      ],
      "execution_count": 0,
      "outputs": []
    },
    {
      "cell_type": "code",
      "metadata": {
        "id": "4ZohzZSl9jCx",
        "colab_type": "code",
        "outputId": "8de32c10-0e25-482e-f659-820d3fcc96fc",
        "colab": {
          "base_uri": "https://localhost:8080/",
          "height": 1000
        }
      },
      "source": [
        "small_model.fit(x_train, y_train, batch_size=20, \n",
        "                epochs=50,\n",
        "                validation_data=(x_test, y_test),\n",
        "                callbacks=callbacks_list)"
      ],
      "execution_count": 0,
      "outputs": [
        {
          "output_type": "stream",
          "text": [
            "Train on 400 samples, validate on 100 samples\n",
            "Epoch 1/50\n",
            "400/400 [==============================] - 21s 52ms/step - loss: 1.9097 - categorical_accuracy: 0.4225 - val_loss: 1.4084 - val_categorical_accuracy: 0.6200\n",
            "\n",
            "Epoch 00001: categorical_accuracy improved from -inf to 0.42250, saving model to /content/drive/My Drive/Course_work_SLR/saved_models/model_for_masked_16.h5\n",
            "Epoch 2/50\n",
            "400/400 [==============================] - 18s 44ms/step - loss: 1.2407 - categorical_accuracy: 0.6625 - val_loss: 1.0169 - val_categorical_accuracy: 0.7400\n",
            "\n",
            "Epoch 00002: categorical_accuracy improved from 0.42250 to 0.66250, saving model to /content/drive/My Drive/Course_work_SLR/saved_models/model_for_masked_16.h5\n",
            "Epoch 3/50\n",
            "400/400 [==============================] - 18s 44ms/step - loss: 0.9043 - categorical_accuracy: 0.7300 - val_loss: 0.7572 - val_categorical_accuracy: 0.7900\n",
            "\n",
            "Epoch 00003: categorical_accuracy improved from 0.66250 to 0.73000, saving model to /content/drive/My Drive/Course_work_SLR/saved_models/model_for_masked_16.h5\n",
            "Epoch 4/50\n",
            "400/400 [==============================] - 17s 44ms/step - loss: 0.6929 - categorical_accuracy: 0.7825 - val_loss: 0.6559 - val_categorical_accuracy: 0.7700\n",
            "\n",
            "Epoch 00004: categorical_accuracy improved from 0.73000 to 0.78250, saving model to /content/drive/My Drive/Course_work_SLR/saved_models/model_for_masked_16.h5\n",
            "Epoch 5/50\n",
            "400/400 [==============================] - 18s 44ms/step - loss: 0.5623 - categorical_accuracy: 0.8075 - val_loss: 0.6082 - val_categorical_accuracy: 0.8200\n",
            "\n",
            "Epoch 00005: categorical_accuracy improved from 0.78250 to 0.80750, saving model to /content/drive/My Drive/Course_work_SLR/saved_models/model_for_masked_16.h5\n",
            "Epoch 6/50\n",
            "400/400 [==============================] - 17s 44ms/step - loss: 0.4982 - categorical_accuracy: 0.8100 - val_loss: 0.5730 - val_categorical_accuracy: 0.8500\n",
            "\n",
            "Epoch 00006: categorical_accuracy improved from 0.80750 to 0.81000, saving model to /content/drive/My Drive/Course_work_SLR/saved_models/model_for_masked_16.h5\n",
            "Epoch 7/50\n",
            "400/400 [==============================] - 18s 44ms/step - loss: 0.4560 - categorical_accuracy: 0.8225 - val_loss: 0.5157 - val_categorical_accuracy: 0.8500\n",
            "\n",
            "Epoch 00007: categorical_accuracy improved from 0.81000 to 0.82250, saving model to /content/drive/My Drive/Course_work_SLR/saved_models/model_for_masked_16.h5\n",
            "Epoch 8/50\n",
            "400/400 [==============================] - 17s 44ms/step - loss: 0.4326 - categorical_accuracy: 0.8150 - val_loss: 0.4602 - val_categorical_accuracy: 0.8600\n",
            "\n",
            "Epoch 00008: categorical_accuracy did not improve from 0.82250\n",
            "Epoch 9/50\n",
            "400/400 [==============================] - 17s 44ms/step - loss: 0.4221 - categorical_accuracy: 0.8400 - val_loss: 0.4602 - val_categorical_accuracy: 0.8300\n",
            "\n",
            "Epoch 00009: categorical_accuracy improved from 0.82250 to 0.84000, saving model to /content/drive/My Drive/Course_work_SLR/saved_models/model_for_masked_16.h5\n",
            "Epoch 10/50\n",
            "400/400 [==============================] - 17s 44ms/step - loss: 0.4052 - categorical_accuracy: 0.8475 - val_loss: 0.4627 - val_categorical_accuracy: 0.8400\n",
            "\n",
            "Epoch 00010: categorical_accuracy improved from 0.84000 to 0.84750, saving model to /content/drive/My Drive/Course_work_SLR/saved_models/model_for_masked_16.h5\n",
            "Epoch 11/50\n",
            "400/400 [==============================] - 17s 44ms/step - loss: 0.4021 - categorical_accuracy: 0.8350 - val_loss: 0.4388 - val_categorical_accuracy: 0.8600\n",
            "\n",
            "Epoch 00011: categorical_accuracy did not improve from 0.84750\n",
            "Epoch 12/50\n",
            "400/400 [==============================] - 17s 44ms/step - loss: 0.3584 - categorical_accuracy: 0.8525 - val_loss: 0.4311 - val_categorical_accuracy: 0.8600\n",
            "\n",
            "Epoch 00012: categorical_accuracy improved from 0.84750 to 0.85250, saving model to /content/drive/My Drive/Course_work_SLR/saved_models/model_for_masked_16.h5\n",
            "Epoch 13/50\n",
            "400/400 [==============================] - 17s 44ms/step - loss: 0.3117 - categorical_accuracy: 0.8825 - val_loss: 0.4121 - val_categorical_accuracy: 0.8700\n",
            "\n",
            "Epoch 00013: categorical_accuracy improved from 0.85250 to 0.88250, saving model to /content/drive/My Drive/Course_work_SLR/saved_models/model_for_masked_16.h5\n",
            "Epoch 14/50\n",
            "400/400 [==============================] - 17s 44ms/step - loss: 0.3141 - categorical_accuracy: 0.8625 - val_loss: 0.3728 - val_categorical_accuracy: 0.9000\n",
            "\n",
            "Epoch 00014: categorical_accuracy did not improve from 0.88250\n",
            "Epoch 15/50\n",
            "400/400 [==============================] - 17s 43ms/step - loss: 0.2823 - categorical_accuracy: 0.8925 - val_loss: 0.4154 - val_categorical_accuracy: 0.8800\n",
            "\n",
            "Epoch 00015: categorical_accuracy improved from 0.88250 to 0.89250, saving model to /content/drive/My Drive/Course_work_SLR/saved_models/model_for_masked_16.h5\n",
            "Epoch 16/50\n",
            "400/400 [==============================] - 17s 44ms/step - loss: 0.3024 - categorical_accuracy: 0.8400 - val_loss: 0.3900 - val_categorical_accuracy: 0.8500\n",
            "\n",
            "Epoch 00016: categorical_accuracy did not improve from 0.89250\n",
            "Epoch 17/50\n",
            "400/400 [==============================] - 17s 43ms/step - loss: 0.2696 - categorical_accuracy: 0.8750 - val_loss: 0.3626 - val_categorical_accuracy: 0.8700\n",
            "\n",
            "Epoch 00017: categorical_accuracy did not improve from 0.89250\n",
            "Epoch 18/50\n",
            "400/400 [==============================] - 17s 43ms/step - loss: 0.2713 - categorical_accuracy: 0.8800 - val_loss: 0.4466 - val_categorical_accuracy: 0.8300\n",
            "\n",
            "Epoch 00018: categorical_accuracy did not improve from 0.89250\n",
            "Epoch 19/50\n",
            "400/400 [==============================] - 17s 43ms/step - loss: 0.2769 - categorical_accuracy: 0.8750 - val_loss: 0.3988 - val_categorical_accuracy: 0.8700\n",
            "\n",
            "Epoch 00019: categorical_accuracy did not improve from 0.89250\n",
            "Epoch 20/50\n",
            "400/400 [==============================] - 17s 43ms/step - loss: 0.2687 - categorical_accuracy: 0.8925 - val_loss: 0.3601 - val_categorical_accuracy: 0.8600\n",
            "\n",
            "Epoch 00020: categorical_accuracy did not improve from 0.89250\n",
            "Epoch 21/50\n",
            "400/400 [==============================] - 17s 43ms/step - loss: 0.2823 - categorical_accuracy: 0.8850 - val_loss: 0.4408 - val_categorical_accuracy: 0.8200\n",
            "\n",
            "Epoch 00021: categorical_accuracy did not improve from 0.89250\n",
            "Epoch 22/50\n",
            "400/400 [==============================] - 17s 44ms/step - loss: 0.2290 - categorical_accuracy: 0.9000 - val_loss: 0.4010 - val_categorical_accuracy: 0.8700\n",
            "\n",
            "Epoch 00022: categorical_accuracy improved from 0.89250 to 0.90000, saving model to /content/drive/My Drive/Course_work_SLR/saved_models/model_for_masked_16.h5\n",
            "Epoch 23/50\n",
            "400/400 [==============================] - 17s 44ms/step - loss: 0.2385 - categorical_accuracy: 0.8925 - val_loss: 0.3980 - val_categorical_accuracy: 0.8800\n",
            "\n",
            "Epoch 00023: categorical_accuracy did not improve from 0.90000\n",
            "Epoch 24/50\n",
            "400/400 [==============================] - 17s 43ms/step - loss: 0.2487 - categorical_accuracy: 0.8900 - val_loss: 0.4319 - val_categorical_accuracy: 0.8500\n",
            "\n",
            "Epoch 00024: categorical_accuracy did not improve from 0.90000\n",
            "Epoch 25/50\n",
            "400/400 [==============================] - 17s 43ms/step - loss: 0.2823 - categorical_accuracy: 0.8725 - val_loss: 0.3885 - val_categorical_accuracy: 0.8900\n",
            "\n",
            "Epoch 00025: categorical_accuracy did not improve from 0.90000\n",
            "Epoch 26/50\n",
            "400/400 [==============================] - 17s 44ms/step - loss: 0.2319 - categorical_accuracy: 0.8925 - val_loss: 0.3942 - val_categorical_accuracy: 0.8800\n",
            "\n",
            "Epoch 00026: categorical_accuracy did not improve from 0.90000\n",
            "Epoch 27/50\n",
            "400/400 [==============================] - 17s 43ms/step - loss: 0.2526 - categorical_accuracy: 0.8875 - val_loss: 0.3810 - val_categorical_accuracy: 0.8800\n",
            "\n",
            "Epoch 00027: categorical_accuracy did not improve from 0.90000\n",
            "Epoch 28/50\n",
            "400/400 [==============================] - 17s 44ms/step - loss: 0.2478 - categorical_accuracy: 0.8925 - val_loss: 0.3861 - val_categorical_accuracy: 0.8800\n",
            "\n",
            "Epoch 00028: categorical_accuracy did not improve from 0.90000\n",
            "Epoch 29/50\n",
            "400/400 [==============================] - 17s 43ms/step - loss: 0.3028 - categorical_accuracy: 0.8850 - val_loss: 0.3911 - val_categorical_accuracy: 0.8300\n",
            "\n",
            "Epoch 00029: categorical_accuracy did not improve from 0.90000\n",
            "Epoch 30/50\n",
            "400/400 [==============================] - 17s 44ms/step - loss: 0.3201 - categorical_accuracy: 0.8500 - val_loss: 0.4396 - val_categorical_accuracy: 0.8300\n",
            "\n",
            "Epoch 00030: categorical_accuracy did not improve from 0.90000\n",
            "Epoch 31/50\n",
            "400/400 [==============================] - 17s 43ms/step - loss: 0.2860 - categorical_accuracy: 0.8750 - val_loss: 0.4537 - val_categorical_accuracy: 0.8300\n",
            "\n",
            "Epoch 00031: categorical_accuracy did not improve from 0.90000\n",
            "Epoch 32/50\n",
            "400/400 [==============================] - 17s 43ms/step - loss: 0.2598 - categorical_accuracy: 0.8925 - val_loss: 0.4418 - val_categorical_accuracy: 0.8500\n",
            "\n",
            "Epoch 00032: categorical_accuracy did not improve from 0.90000\n",
            "Epoch 33/50\n",
            "400/400 [==============================] - 17s 43ms/step - loss: 0.2718 - categorical_accuracy: 0.8900 - val_loss: 0.4276 - val_categorical_accuracy: 0.8200\n",
            "\n",
            "Epoch 00033: categorical_accuracy did not improve from 0.90000\n",
            "Epoch 34/50\n",
            "400/400 [==============================] - 17s 43ms/step - loss: 0.2552 - categorical_accuracy: 0.8875 - val_loss: 0.4163 - val_categorical_accuracy: 0.8600\n",
            "\n",
            "Epoch 00034: categorical_accuracy did not improve from 0.90000\n",
            "Epoch 35/50\n",
            "400/400 [==============================] - 17s 43ms/step - loss: 0.2367 - categorical_accuracy: 0.9075 - val_loss: 0.4520 - val_categorical_accuracy: 0.8500\n",
            "\n",
            "Epoch 00035: categorical_accuracy improved from 0.90000 to 0.90750, saving model to /content/drive/My Drive/Course_work_SLR/saved_models/model_for_masked_16.h5\n",
            "Epoch 36/50\n",
            "400/400 [==============================] - 17s 44ms/step - loss: 0.2277 - categorical_accuracy: 0.8925 - val_loss: 0.4953 - val_categorical_accuracy: 0.8500\n",
            "\n",
            "Epoch 00036: categorical_accuracy did not improve from 0.90750\n",
            "Epoch 37/50\n",
            "400/400 [==============================] - 17s 44ms/step - loss: 0.2450 - categorical_accuracy: 0.8950 - val_loss: 0.4147 - val_categorical_accuracy: 0.8800\n",
            "\n",
            "Epoch 00037: categorical_accuracy did not improve from 0.90750\n",
            "Epoch 38/50\n",
            "400/400 [==============================] - 17s 44ms/step - loss: 0.2386 - categorical_accuracy: 0.9075 - val_loss: 0.3833 - val_categorical_accuracy: 0.8800\n",
            "\n",
            "Epoch 00038: categorical_accuracy did not improve from 0.90750\n",
            "Epoch 39/50\n",
            "400/400 [==============================] - 17s 43ms/step - loss: 0.2445 - categorical_accuracy: 0.9075 - val_loss: 0.4115 - val_categorical_accuracy: 0.8700\n",
            "\n",
            "Epoch 00039: categorical_accuracy did not improve from 0.90750\n",
            "Epoch 40/50\n",
            "400/400 [==============================] - 17s 43ms/step - loss: 0.2239 - categorical_accuracy: 0.9050 - val_loss: 0.3862 - val_categorical_accuracy: 0.9100\n",
            "\n",
            "Epoch 00040: categorical_accuracy did not improve from 0.90750\n",
            "Epoch 41/50\n",
            "400/400 [==============================] - 17s 43ms/step - loss: 0.2309 - categorical_accuracy: 0.9075 - val_loss: 0.4290 - val_categorical_accuracy: 0.9100\n",
            "\n",
            "Epoch 00041: categorical_accuracy did not improve from 0.90750\n",
            "Epoch 42/50\n",
            "400/400 [==============================] - 17s 43ms/step - loss: 0.2203 - categorical_accuracy: 0.9050 - val_loss: 0.4673 - val_categorical_accuracy: 0.8900\n",
            "\n",
            "Epoch 00042: categorical_accuracy did not improve from 0.90750\n",
            "Epoch 43/50\n",
            "400/400 [==============================] - 17s 43ms/step - loss: 0.2213 - categorical_accuracy: 0.9000 - val_loss: 0.4241 - val_categorical_accuracy: 0.9100\n",
            "\n",
            "Epoch 00043: categorical_accuracy did not improve from 0.90750\n",
            "Epoch 44/50\n",
            "400/400 [==============================] - 17s 44ms/step - loss: 0.2529 - categorical_accuracy: 0.8825 - val_loss: 0.4424 - val_categorical_accuracy: 0.9000\n",
            "\n",
            "Epoch 00044: categorical_accuracy did not improve from 0.90750\n",
            "Epoch 45/50\n",
            "400/400 [==============================] - 17s 43ms/step - loss: 0.2142 - categorical_accuracy: 0.9075 - val_loss: 0.4071 - val_categorical_accuracy: 0.9100\n",
            "\n",
            "Epoch 00045: categorical_accuracy did not improve from 0.90750\n",
            "Epoch 46/50\n",
            "400/400 [==============================] - 17s 43ms/step - loss: 0.2051 - categorical_accuracy: 0.9125 - val_loss: 0.3722 - val_categorical_accuracy: 0.9000\n",
            "\n",
            "Epoch 00046: categorical_accuracy improved from 0.90750 to 0.91250, saving model to /content/drive/My Drive/Course_work_SLR/saved_models/model_for_masked_16.h5\n",
            "Epoch 47/50\n",
            "400/400 [==============================] - 17s 44ms/step - loss: 0.2212 - categorical_accuracy: 0.9100 - val_loss: 0.3657 - val_categorical_accuracy: 0.9100\n",
            "\n",
            "Epoch 00047: categorical_accuracy did not improve from 0.91250\n",
            "Epoch 48/50\n",
            "400/400 [==============================] - 17s 43ms/step - loss: 0.2092 - categorical_accuracy: 0.9150 - val_loss: 0.3636 - val_categorical_accuracy: 0.9100\n",
            "\n",
            "Epoch 00048: categorical_accuracy improved from 0.91250 to 0.91500, saving model to /content/drive/My Drive/Course_work_SLR/saved_models/model_for_masked_16.h5\n",
            "Epoch 49/50\n",
            "400/400 [==============================] - 17s 44ms/step - loss: 0.2113 - categorical_accuracy: 0.9200 - val_loss: 0.3469 - val_categorical_accuracy: 0.9100\n",
            "\n",
            "Epoch 00049: categorical_accuracy improved from 0.91500 to 0.92000, saving model to /content/drive/My Drive/Course_work_SLR/saved_models/model_for_masked_16.h5\n",
            "Epoch 50/50\n",
            "400/400 [==============================] - 17s 44ms/step - loss: 0.1940 - categorical_accuracy: 0.9275 - val_loss: 0.3591 - val_categorical_accuracy: 0.9000\n",
            "\n",
            "Epoch 00050: categorical_accuracy improved from 0.92000 to 0.92750, saving model to /content/drive/My Drive/Course_work_SLR/saved_models/model_for_masked_16.h5\n"
          ],
          "name": "stdout"
        },
        {
          "output_type": "execute_result",
          "data": {
            "text/plain": [
              "<keras.callbacks.callbacks.History at 0x7fb6b98e6160>"
            ]
          },
          "metadata": {
            "tags": []
          },
          "execution_count": 12
        }
      ]
    },
    {
      "cell_type": "markdown",
      "metadata": {
        "id": "0Rj7X9L-lCPE",
        "colab_type": "text"
      },
      "source": [
        "### Plots"
      ]
    },
    {
      "cell_type": "code",
      "metadata": {
        "id": "QzhZgbz8bh28",
        "colab_type": "code",
        "colab": {}
      },
      "source": [
        "show_plots(\"10 signs\")"
      ],
      "execution_count": 0,
      "outputs": []
    },
    {
      "cell_type": "markdown",
      "metadata": {
        "id": "doelJ63Zr8Rx",
        "colab_type": "text"
      },
      "source": [
        "### Evaluating"
      ]
    },
    {
      "cell_type": "code",
      "metadata": {
        "id": "wt2ba6FDsDNP",
        "colab_type": "code",
        "colab": {}
      },
      "source": [
        "# # if need only to evaluate already trained model\n",
        "# small_model = load_model(os.path.join(save_dir, 'small_model_weights.h5'))"
      ],
      "execution_count": 0,
      "outputs": []
    },
    {
      "cell_type": "code",
      "metadata": {
        "id": "pomeL_2NRA8o",
        "colab_type": "code",
        "outputId": "a73956e8-4ede-4cf6-a07a-7ca04e5a51bc",
        "colab": {
          "base_uri": "https://localhost:8080/",
          "height": 34
        }
      },
      "source": [
        "# example of usage\n",
        "pred = small_model.predict_classes(np.expand_dims(x_test[0], axis=0))\n",
        "pred"
      ],
      "execution_count": 0,
      "outputs": [
        {
          "output_type": "execute_result",
          "data": {
            "text/plain": [
              "array([0])"
            ]
          },
          "metadata": {
            "tags": []
          },
          "execution_count": 29
        }
      ]
    },
    {
      "cell_type": "code",
      "metadata": {
        "id": "Ls1tBMJduQXF",
        "colab_type": "code",
        "colab": {}
      },
      "source": [
        "predictions = small_model.predict_classes(x_test)\n",
        "rounded_labels = np.argmax(y_test, axis=1)"
      ],
      "execution_count": 0,
      "outputs": []
    },
    {
      "cell_type": "code",
      "metadata": {
        "id": "KR6OefykufTu",
        "colab_type": "code",
        "outputId": "4fc73046-d3ac-4c1b-ed2b-925a2c31378b",
        "colab": {
          "base_uri": "https://localhost:8080/",
          "height": 187
        }
      },
      "source": [
        "confusion_matrix(rounded_labels, predictions)"
      ],
      "execution_count": 0,
      "outputs": [
        {
          "output_type": "execute_result",
          "data": {
            "text/plain": [
              "array([[ 9,  0,  0,  0,  0,  0,  0,  0,  0,  1],\n",
              "       [ 0,  9,  1,  0,  0,  0,  0,  0,  0,  0],\n",
              "       [ 0,  2,  8,  0,  0,  0,  0,  0,  0,  0],\n",
              "       [ 0,  0,  0, 10,  0,  0,  0,  0,  0,  0],\n",
              "       [ 0,  0,  0,  0, 10,  0,  0,  0,  0,  0],\n",
              "       [ 0,  0,  0,  0,  0, 10,  0,  0,  0,  0],\n",
              "       [ 0,  0,  0,  0,  0,  0,  9,  0,  1,  0],\n",
              "       [ 0,  0,  0,  0,  0,  0,  0, 10,  0,  0],\n",
              "       [ 0,  0,  0,  1,  0,  0,  0,  0,  9,  0],\n",
              "       [ 1,  0,  0,  0,  2,  1,  0,  0,  0,  6]])"
            ]
          },
          "metadata": {
            "tags": []
          },
          "execution_count": 23
        }
      ]
    },
    {
      "cell_type": "code",
      "metadata": {
        "id": "ZMV6gaxmugBH",
        "colab_type": "code",
        "outputId": "f49dca9e-0b3e-4f6b-f17a-926b440e05e5",
        "colab": {
          "base_uri": "https://localhost:8080/",
          "height": 306
        }
      },
      "source": [
        "print(classification_report(rounded_labels, predictions))"
      ],
      "execution_count": 0,
      "outputs": [
        {
          "output_type": "stream",
          "text": [
            "              precision    recall  f1-score   support\n",
            "\n",
            "           0       0.90      0.90      0.90        10\n",
            "           1       0.82      0.90      0.86        10\n",
            "           2       0.89      0.80      0.84        10\n",
            "           3       0.91      1.00      0.95        10\n",
            "           4       0.83      1.00      0.91        10\n",
            "           5       0.91      1.00      0.95        10\n",
            "           6       1.00      0.90      0.95        10\n",
            "           7       1.00      1.00      1.00        10\n",
            "           8       0.90      0.90      0.90        10\n",
            "           9       0.86      0.60      0.71        10\n",
            "\n",
            "    accuracy                           0.90       100\n",
            "   macro avg       0.90      0.90      0.90       100\n",
            "weighted avg       0.90      0.90      0.90       100\n",
            "\n"
          ],
          "name": "stdout"
        }
      ]
    },
    {
      "cell_type": "markdown",
      "metadata": {
        "id": "uhOUjT2mlVCy",
        "colab_type": "text"
      },
      "source": [
        "## Model for 64 gestures\n"
      ]
    },
    {
      "cell_type": "markdown",
      "metadata": {
        "id": "5acG1M8Csb_A",
        "colab_type": "text"
      },
      "source": [
        "### Load whole data"
      ]
    },
    {
      "cell_type": "code",
      "metadata": {
        "id": "xOErhplNYOxy",
        "colab_type": "code",
        "colab": {}
      },
      "source": [
        "with open('/content/drive/My Drive/Course_work_SLR/lsa64_raw_dataset/hands_masked/masked_data_64.pkl', 'rb') as file:\n",
        "    data = pickle.load(file)"
      ],
      "execution_count": 0,
      "outputs": []
    },
    {
      "cell_type": "markdown",
      "metadata": {
        "id": "c_lyBPwmslSs",
        "colab_type": "text"
      },
      "source": [
        "### Overview"
      ]
    },
    {
      "cell_type": "code",
      "metadata": {
        "id": "3iIZTi5kYuuy",
        "colab_type": "code",
        "outputId": "8992937f-09b1-4b2a-c637-84211178e642",
        "colab": {
          "base_uri": "https://localhost:8080/",
          "height": 68
        }
      },
      "source": [
        "num_classes = 64\n",
        "x_train, x_test, y_train, y_test = prepare_data(data)\n",
        "\n",
        "print(\"Train data shape:\", x_train.shape)\n",
        "print(\"Train samples:\", x_train.shape[0])\n",
        "print(\"Test samples:\", x_test.shape[0])"
      ],
      "execution_count": 0,
      "outputs": [
        {
          "output_type": "stream",
          "text": [
            "Train data shape: (2560, 10, 212, 380, 1)\n",
            "Train samples: 2560\n",
            "Test samples: 640\n"
          ],
          "name": "stdout"
        }
      ]
    },
    {
      "cell_type": "markdown",
      "metadata": {
        "id": "Takg6T-LsXOK",
        "colab_type": "text"
      },
      "source": [
        "### Initialize model"
      ]
    },
    {
      "cell_type": "code",
      "metadata": {
        "id": "7N9bp5AelWq2",
        "colab_type": "code",
        "colab": {}
      },
      "source": [
        "model = Sequential()\n",
        "model.add(TimeDistributed(Conv2D(filters=32,\n",
        "                                 kernel_size=(5,5),\n",
        "                                 activation='relu',\n",
        "                                 input_shape=(10, 212, 380, 1))))\n",
        "model.add(TimeDistributed(MaxPooling2D(pool_size=(2,2))))\n",
        "if use_dropout:\n",
        "    model.add(TimeDistributed(Dropout(0.25)))\n",
        "model.add(TimeDistributed(Conv2D(filters=32, kernel_size=(3,3), activation='relu')))\n",
        "model.add(TimeDistributed(MaxPooling2D(pool_size=(2,2))))\n",
        "if use_dropout:\n",
        "    model.add(TimeDistributed(Dropout(0.25)))\n",
        "\n",
        "model.add(TimeDistributed(Flatten()))\n",
        "model.add(LSTM(128, dropout=0.2))\n",
        "if use_dropout:\n",
        "    model.add(Dropout(0.25))\n",
        "\n",
        "model.add(Dense(512, activation='relu'))\n",
        "model.add(Dense(num_classes, activation='softmax'))\n",
        "\n",
        "model.compile(\n",
        "    loss='categorical_crossentropy',\n",
        "    optimizer='adam',\n",
        "    metrics=['categorical_accuracy']\n",
        ")"
      ],
      "execution_count": 0,
      "outputs": []
    },
    {
      "cell_type": "markdown",
      "metadata": {
        "id": "JvYy4zh7svi8",
        "colab_type": "text"
      },
      "source": [
        "### Training"
      ]
    },
    {
      "cell_type": "code",
      "metadata": {
        "id": "ihfJxTY4l2hI",
        "colab_type": "code",
        "colab": {}
      },
      "source": [
        "checkpoint = ModelCheckpoint(os.path.join(save_dir, 'model_weights.h5'),\n",
        "                             monitor='categorical_accuracy',\n",
        "                             verbose=1, save_best_only=True, mode='max')\n",
        "history = History()\n",
        "callbacks_list = [checkpoint, history]"
      ],
      "execution_count": 0,
      "outputs": []
    },
    {
      "cell_type": "code",
      "metadata": {
        "id": "BqDAD3WMmFfo",
        "colab_type": "code",
        "outputId": "7d2351c5-2c38-40a3-af51-72f672f5e079",
        "colab": {
          "base_uri": "https://localhost:8080/",
          "height": 1000
        }
      },
      "source": [
        "model.fit(x_train, y_train, batch_size=20,\n",
        "          epochs=75, validation_data=(x_test, y_test),\n",
        "          callbacks=callbacks_list)"
      ],
      "execution_count": 0,
      "outputs": [
        {
          "output_type": "stream",
          "text": [
            "Train on 2560 samples, validate on 640 samples\n",
            "Epoch 1/75\n",
            "2560/2560 [==============================] - 137s 53ms/step - loss: 1.8274 - categorical_accuracy: 0.4398 - val_loss: 1.6019 - val_categorical_accuracy: 0.5219\n",
            "\n",
            "Epoch 00001: categorical_accuracy improved from 0.24141 to 0.43984, saving model to /content/drive/My Drive/Course_work_SLR/saved_models/model_weights.h5\n",
            "Epoch 2/75\n",
            "2560/2560 [==============================] - 135s 53ms/step - loss: 1.5848 - categorical_accuracy: 0.4996 - val_loss: 1.4230 - val_categorical_accuracy: 0.5797\n",
            "\n",
            "Epoch 00002: categorical_accuracy improved from 0.43984 to 0.49961, saving model to /content/drive/My Drive/Course_work_SLR/saved_models/model_weights.h5\n",
            "Epoch 3/75\n",
            "2560/2560 [==============================] - 136s 53ms/step - loss: 1.4545 - categorical_accuracy: 0.5371 - val_loss: 1.3175 - val_categorical_accuracy: 0.5875\n",
            "\n",
            "Epoch 00003: categorical_accuracy improved from 0.49961 to 0.53711, saving model to /content/drive/My Drive/Course_work_SLR/saved_models/model_weights.h5\n",
            "Epoch 4/75\n",
            "2560/2560 [==============================] - 136s 53ms/step - loss: 1.3576 - categorical_accuracy: 0.5613 - val_loss: 1.2472 - val_categorical_accuracy: 0.5906\n",
            "\n",
            "Epoch 00004: categorical_accuracy improved from 0.53711 to 0.56133, saving model to /content/drive/My Drive/Course_work_SLR/saved_models/model_weights.h5\n",
            "Epoch 5/75\n",
            "2560/2560 [==============================] - 136s 53ms/step - loss: 1.3117 - categorical_accuracy: 0.5660 - val_loss: 1.1941 - val_categorical_accuracy: 0.6094\n",
            "\n",
            "Epoch 00005: categorical_accuracy improved from 0.56133 to 0.56602, saving model to /content/drive/My Drive/Course_work_SLR/saved_models/model_weights.h5\n",
            "Epoch 6/75\n",
            "2560/2560 [==============================] - 136s 53ms/step - loss: 1.2164 - categorical_accuracy: 0.6133 - val_loss: 1.0693 - val_categorical_accuracy: 0.6547\n",
            "\n",
            "Epoch 00006: categorical_accuracy improved from 0.56602 to 0.61328, saving model to /content/drive/My Drive/Course_work_SLR/saved_models/model_weights.h5\n",
            "Epoch 7/75\n",
            "2560/2560 [==============================] - 136s 53ms/step - loss: 1.1239 - categorical_accuracy: 0.6313 - val_loss: 1.0349 - val_categorical_accuracy: 0.6656\n",
            "\n",
            "Epoch 00007: categorical_accuracy improved from 0.61328 to 0.63125, saving model to /content/drive/My Drive/Course_work_SLR/saved_models/model_weights.h5\n",
            "Epoch 8/75\n",
            "2560/2560 [==============================] - 136s 53ms/step - loss: 1.0732 - categorical_accuracy: 0.6418 - val_loss: 0.9964 - val_categorical_accuracy: 0.6891\n",
            "\n",
            "Epoch 00008: categorical_accuracy improved from 0.63125 to 0.64180, saving model to /content/drive/My Drive/Course_work_SLR/saved_models/model_weights.h5\n",
            "Epoch 9/75\n",
            "2560/2560 [==============================] - 135s 53ms/step - loss: 1.0238 - categorical_accuracy: 0.6457 - val_loss: 1.0293 - val_categorical_accuracy: 0.6531\n",
            "\n",
            "Epoch 00009: categorical_accuracy improved from 0.64180 to 0.64570, saving model to /content/drive/My Drive/Course_work_SLR/saved_models/model_weights.h5\n",
            "Epoch 10/75\n",
            "2560/2560 [==============================] - 136s 53ms/step - loss: 1.0426 - categorical_accuracy: 0.6547 - val_loss: 0.9836 - val_categorical_accuracy: 0.7047\n",
            "\n",
            "Epoch 00010: categorical_accuracy improved from 0.64570 to 0.65469, saving model to /content/drive/My Drive/Course_work_SLR/saved_models/model_weights.h5\n",
            "Epoch 11/75\n",
            "2560/2560 [==============================] - 135s 53ms/step - loss: 1.0312 - categorical_accuracy: 0.6566 - val_loss: 0.9540 - val_categorical_accuracy: 0.6953\n",
            "\n",
            "Epoch 00011: categorical_accuracy improved from 0.65469 to 0.65664, saving model to /content/drive/My Drive/Course_work_SLR/saved_models/model_weights.h5\n",
            "Epoch 12/75\n",
            "2560/2560 [==============================] - 135s 53ms/step - loss: 1.0052 - categorical_accuracy: 0.6652 - val_loss: 0.9425 - val_categorical_accuracy: 0.7031\n",
            "\n",
            "Epoch 00012: categorical_accuracy improved from 0.65664 to 0.66523, saving model to /content/drive/My Drive/Course_work_SLR/saved_models/model_weights.h5\n",
            "Epoch 13/75\n",
            "2560/2560 [==============================] - 135s 53ms/step - loss: 0.9907 - categorical_accuracy: 0.6598 - val_loss: 0.9105 - val_categorical_accuracy: 0.7219\n",
            "\n",
            "Epoch 00013: categorical_accuracy did not improve from 0.66523\n",
            "Epoch 14/75\n",
            "2560/2560 [==============================] - 135s 53ms/step - loss: 0.9199 - categorical_accuracy: 0.6949 - val_loss: 0.9166 - val_categorical_accuracy: 0.7156\n",
            "\n",
            "Epoch 00014: categorical_accuracy improved from 0.66523 to 0.69492, saving model to /content/drive/My Drive/Course_work_SLR/saved_models/model_weights.h5\n",
            "Epoch 15/75\n",
            "2560/2560 [==============================] - 136s 53ms/step - loss: 0.8756 - categorical_accuracy: 0.6980 - val_loss: 0.9252 - val_categorical_accuracy: 0.7031\n",
            "\n",
            "Epoch 00015: categorical_accuracy improved from 0.69492 to 0.69805, saving model to /content/drive/My Drive/Course_work_SLR/saved_models/model_weights.h5\n",
            "Epoch 16/75\n",
            "2560/2560 [==============================] - 136s 53ms/step - loss: 0.8905 - categorical_accuracy: 0.6996 - val_loss: 0.8704 - val_categorical_accuracy: 0.7328\n",
            "\n",
            "Epoch 00016: categorical_accuracy improved from 0.69805 to 0.69961, saving model to /content/drive/My Drive/Course_work_SLR/saved_models/model_weights.h5\n",
            "Epoch 17/75\n",
            "2560/2560 [==============================] - 135s 53ms/step - loss: 0.9319 - categorical_accuracy: 0.6953 - val_loss: 0.8857 - val_categorical_accuracy: 0.7000\n",
            "\n",
            "Epoch 00017: categorical_accuracy did not improve from 0.69961\n",
            "Epoch 18/75\n",
            "2560/2560 [==============================] - 135s 53ms/step - loss: 0.9197 - categorical_accuracy: 0.6781 - val_loss: 0.8630 - val_categorical_accuracy: 0.7375\n",
            "\n",
            "Epoch 00018: categorical_accuracy did not improve from 0.69961\n",
            "Epoch 19/75\n",
            "2560/2560 [==============================] - 135s 53ms/step - loss: 0.8678 - categorical_accuracy: 0.7027 - val_loss: 0.8468 - val_categorical_accuracy: 0.7328\n",
            "\n",
            "Epoch 00019: categorical_accuracy improved from 0.69961 to 0.70273, saving model to /content/drive/My Drive/Course_work_SLR/saved_models/model_weights.h5\n",
            "Epoch 20/75\n",
            "2560/2560 [==============================] - 135s 53ms/step - loss: 0.8760 - categorical_accuracy: 0.7027 - val_loss: 0.8674 - val_categorical_accuracy: 0.7141\n",
            "\n",
            "Epoch 00020: categorical_accuracy did not improve from 0.70273\n",
            "Epoch 21/75\n",
            "2560/2560 [==============================] - 135s 53ms/step - loss: 0.8307 - categorical_accuracy: 0.7180 - val_loss: 0.8100 - val_categorical_accuracy: 0.7297\n",
            "\n",
            "Epoch 00021: categorical_accuracy improved from 0.70273 to 0.71797, saving model to /content/drive/My Drive/Course_work_SLR/saved_models/model_weights.h5\n",
            "Epoch 22/75\n",
            "2560/2560 [==============================] - 135s 53ms/step - loss: 0.8181 - categorical_accuracy: 0.7203 - val_loss: 0.7649 - val_categorical_accuracy: 0.7469\n",
            "\n",
            "Epoch 00022: categorical_accuracy improved from 0.71797 to 0.72031, saving model to /content/drive/My Drive/Course_work_SLR/saved_models/model_weights.h5\n",
            "Epoch 23/75\n",
            "2560/2560 [==============================] - 135s 53ms/step - loss: 0.7908 - categorical_accuracy: 0.7316 - val_loss: 0.7849 - val_categorical_accuracy: 0.7625\n",
            "\n",
            "Epoch 00023: categorical_accuracy improved from 0.72031 to 0.73164, saving model to /content/drive/My Drive/Course_work_SLR/saved_models/model_weights.h5\n",
            "Epoch 24/75\n",
            "2560/2560 [==============================] - 135s 53ms/step - loss: 0.7436 - categorical_accuracy: 0.7527 - val_loss: 0.7640 - val_categorical_accuracy: 0.7563\n",
            "\n",
            "Epoch 00024: categorical_accuracy improved from 0.73164 to 0.75273, saving model to /content/drive/My Drive/Course_work_SLR/saved_models/model_weights.h5\n",
            "Epoch 25/75\n",
            "2560/2560 [==============================] - 135s 53ms/step - loss: 0.7565 - categorical_accuracy: 0.7504 - val_loss: 0.7843 - val_categorical_accuracy: 0.7469\n",
            "\n",
            "Epoch 00025: categorical_accuracy did not improve from 0.75273\n",
            "Epoch 26/75\n",
            "2560/2560 [==============================] - 135s 53ms/step - loss: 0.7362 - categorical_accuracy: 0.7543 - val_loss: 0.7602 - val_categorical_accuracy: 0.7594\n",
            "\n",
            "Epoch 00026: categorical_accuracy improved from 0.75273 to 0.75430, saving model to /content/drive/My Drive/Course_work_SLR/saved_models/model_weights.h5\n",
            "Epoch 27/75\n",
            "2560/2560 [==============================] - 135s 53ms/step - loss: 0.6786 - categorical_accuracy: 0.7652 - val_loss: 0.7108 - val_categorical_accuracy: 0.7875\n",
            "\n",
            "Epoch 00027: categorical_accuracy improved from 0.75430 to 0.76523, saving model to /content/drive/My Drive/Course_work_SLR/saved_models/model_weights.h5\n",
            "Epoch 28/75\n",
            "2560/2560 [==============================] - 135s 53ms/step - loss: 0.6618 - categorical_accuracy: 0.7789 - val_loss: 0.6983 - val_categorical_accuracy: 0.7922\n",
            "\n",
            "Epoch 00028: categorical_accuracy improved from 0.76523 to 0.77891, saving model to /content/drive/My Drive/Course_work_SLR/saved_models/model_weights.h5\n",
            "Epoch 29/75\n",
            "2560/2560 [==============================] - 135s 53ms/step - loss: 0.6492 - categorical_accuracy: 0.7777 - val_loss: 0.6920 - val_categorical_accuracy: 0.7734\n",
            "\n",
            "Epoch 00029: categorical_accuracy did not improve from 0.77891\n",
            "Epoch 30/75\n",
            "2560/2560 [==============================] - 134s 53ms/step - loss: 0.6489 - categorical_accuracy: 0.7891 - val_loss: 0.7044 - val_categorical_accuracy: 0.7859\n",
            "\n",
            "Epoch 00030: categorical_accuracy improved from 0.77891 to 0.78906, saving model to /content/drive/My Drive/Course_work_SLR/saved_models/model_weights.h5\n",
            "Epoch 31/75\n",
            "2560/2560 [==============================] - 135s 53ms/step - loss: 0.6395 - categorical_accuracy: 0.7812 - val_loss: 0.6507 - val_categorical_accuracy: 0.7937\n",
            "\n",
            "Epoch 00031: categorical_accuracy did not improve from 0.78906\n",
            "Epoch 32/75\n",
            "2560/2560 [==============================] - 135s 53ms/step - loss: 0.6371 - categorical_accuracy: 0.7902 - val_loss: 0.7053 - val_categorical_accuracy: 0.7781\n",
            "\n",
            "Epoch 00032: categorical_accuracy improved from 0.78906 to 0.79023, saving model to /content/drive/My Drive/Course_work_SLR/saved_models/model_weights.h5\n",
            "Epoch 33/75\n",
            "2560/2560 [==============================] - 135s 53ms/step - loss: 0.6472 - categorical_accuracy: 0.7805 - val_loss: 0.6891 - val_categorical_accuracy: 0.7937\n",
            "\n",
            "Epoch 00033: categorical_accuracy did not improve from 0.79023\n",
            "Epoch 34/75\n",
            "2560/2560 [==============================] - 134s 52ms/step - loss: 0.6640 - categorical_accuracy: 0.7699 - val_loss: 0.6904 - val_categorical_accuracy: 0.7734\n",
            "\n",
            "Epoch 00034: categorical_accuracy did not improve from 0.79023\n",
            "Epoch 35/75\n",
            "2560/2560 [==============================] - 134s 52ms/step - loss: 0.5948 - categorical_accuracy: 0.7969 - val_loss: 0.6661 - val_categorical_accuracy: 0.7875\n",
            "\n",
            "Epoch 00035: categorical_accuracy improved from 0.79023 to 0.79688, saving model to /content/drive/My Drive/Course_work_SLR/saved_models/model_weights.h5\n",
            "Epoch 36/75\n",
            "2560/2560 [==============================] - 135s 53ms/step - loss: 0.5955 - categorical_accuracy: 0.7941 - val_loss: 0.6391 - val_categorical_accuracy: 0.8078\n",
            "\n",
            "Epoch 00036: categorical_accuracy did not improve from 0.79688\n",
            "Epoch 37/75\n",
            "2560/2560 [==============================] - 134s 53ms/step - loss: 0.6071 - categorical_accuracy: 0.7859 - val_loss: 0.6771 - val_categorical_accuracy: 0.7828\n",
            "\n",
            "Epoch 00037: categorical_accuracy did not improve from 0.79688\n",
            "Epoch 38/75\n",
            "2560/2560 [==============================] - 134s 53ms/step - loss: 0.6328 - categorical_accuracy: 0.7809 - val_loss: 0.7103 - val_categorical_accuracy: 0.7672\n",
            "\n",
            "Epoch 00038: categorical_accuracy did not improve from 0.79688\n",
            "Epoch 39/75\n",
            "2560/2560 [==============================] - 134s 53ms/step - loss: 0.6420 - categorical_accuracy: 0.7715 - val_loss: 0.6956 - val_categorical_accuracy: 0.7797\n",
            "\n",
            "Epoch 00039: categorical_accuracy did not improve from 0.79688\n",
            "Epoch 40/75\n",
            "2560/2560 [==============================] - 134s 52ms/step - loss: 0.6180 - categorical_accuracy: 0.7844 - val_loss: 0.6996 - val_categorical_accuracy: 0.7781\n",
            "\n",
            "Epoch 00040: categorical_accuracy did not improve from 0.79688\n",
            "Epoch 41/75\n",
            "2560/2560 [==============================] - 134s 53ms/step - loss: 0.5935 - categorical_accuracy: 0.7922 - val_loss: 0.6857 - val_categorical_accuracy: 0.7844\n",
            "\n",
            "Epoch 00041: categorical_accuracy did not improve from 0.79688\n",
            "Epoch 42/75\n",
            "2560/2560 [==============================] - 134s 52ms/step - loss: 0.5728 - categorical_accuracy: 0.8055 - val_loss: 0.6677 - val_categorical_accuracy: 0.8016\n",
            "\n",
            "Epoch 00042: categorical_accuracy improved from 0.79688 to 0.80547, saving model to /content/drive/My Drive/Course_work_SLR/saved_models/model_weights.h5\n",
            "Epoch 43/75\n",
            "2560/2560 [==============================] - 135s 53ms/step - loss: 0.5880 - categorical_accuracy: 0.7918 - val_loss: 0.6518 - val_categorical_accuracy: 0.7891\n",
            "\n",
            "Epoch 00043: categorical_accuracy did not improve from 0.80547\n",
            "Epoch 44/75\n",
            "2560/2560 [==============================] - 135s 53ms/step - loss: 0.5807 - categorical_accuracy: 0.7945 - val_loss: 0.6516 - val_categorical_accuracy: 0.7969\n",
            "\n",
            "Epoch 00044: categorical_accuracy did not improve from 0.80547\n",
            "Epoch 45/75\n",
            "2560/2560 [==============================] - 135s 53ms/step - loss: 0.5547 - categorical_accuracy: 0.7926 - val_loss: 0.6514 - val_categorical_accuracy: 0.7953\n",
            "\n",
            "Epoch 00045: categorical_accuracy did not improve from 0.80547\n",
            "Epoch 46/75\n",
            "2560/2560 [==============================] - 134s 52ms/step - loss: 0.5193 - categorical_accuracy: 0.8160 - val_loss: 0.6058 - val_categorical_accuracy: 0.7984\n",
            "\n",
            "Epoch 00046: categorical_accuracy improved from 0.80547 to 0.81602, saving model to /content/drive/My Drive/Course_work_SLR/saved_models/model_weights.h5\n",
            "Epoch 47/75\n",
            "2560/2560 [==============================] - 135s 53ms/step - loss: 0.4686 - categorical_accuracy: 0.8371 - val_loss: 0.6123 - val_categorical_accuracy: 0.8047\n",
            "\n",
            "Epoch 00047: categorical_accuracy improved from 0.81602 to 0.83711, saving model to /content/drive/My Drive/Course_work_SLR/saved_models/model_weights.h5\n",
            "Epoch 48/75\n",
            "2560/2560 [==============================] - 135s 53ms/step - loss: 0.4994 - categorical_accuracy: 0.8145 - val_loss: 0.5979 - val_categorical_accuracy: 0.8172\n",
            "\n",
            "Epoch 00048: categorical_accuracy did not improve from 0.83711\n",
            "Epoch 49/75\n",
            "2560/2560 [==============================] - 135s 53ms/step - loss: 0.4890 - categorical_accuracy: 0.8297 - val_loss: 0.6165 - val_categorical_accuracy: 0.8172\n",
            "\n",
            "Epoch 00049: categorical_accuracy did not improve from 0.83711\n",
            "Epoch 50/75\n",
            "2560/2560 [==============================] - 135s 53ms/step - loss: 0.4969 - categorical_accuracy: 0.8297 - val_loss: 0.6300 - val_categorical_accuracy: 0.8094\n",
            "\n",
            "Epoch 00050: categorical_accuracy did not improve from 0.83711\n",
            "Epoch 51/75\n",
            "2560/2560 [==============================] - 134s 53ms/step - loss: 0.4728 - categorical_accuracy: 0.8313 - val_loss: 0.6248 - val_categorical_accuracy: 0.8156\n",
            "\n",
            "Epoch 00051: categorical_accuracy did not improve from 0.83711\n",
            "Epoch 52/75\n",
            "2560/2560 [==============================] - 135s 53ms/step - loss: 0.4737 - categorical_accuracy: 0.8285 - val_loss: 0.6272 - val_categorical_accuracy: 0.8156\n",
            "\n",
            "Epoch 00052: categorical_accuracy did not improve from 0.83711\n",
            "Epoch 53/75\n",
            "2560/2560 [==============================] - 134s 52ms/step - loss: 0.4644 - categorical_accuracy: 0.8434 - val_loss: 0.5992 - val_categorical_accuracy: 0.8328\n",
            "\n",
            "Epoch 00053: categorical_accuracy improved from 0.83711 to 0.84336, saving model to /content/drive/My Drive/Course_work_SLR/saved_models/model_weights.h5\n",
            "Epoch 54/75\n",
            "2560/2560 [==============================] - 135s 53ms/step - loss: 0.4698 - categorical_accuracy: 0.8379 - val_loss: 0.5960 - val_categorical_accuracy: 0.8281\n",
            "\n",
            "Epoch 00054: categorical_accuracy did not improve from 0.84336\n",
            "Epoch 55/75\n",
            "2560/2560 [==============================] - 135s 53ms/step - loss: 0.4512 - categorical_accuracy: 0.8457 - val_loss: 0.6072 - val_categorical_accuracy: 0.8422\n",
            "\n",
            "Epoch 00055: categorical_accuracy improved from 0.84336 to 0.84570, saving model to /content/drive/My Drive/Course_work_SLR/saved_models/model_weights.h5\n",
            "Epoch 56/75\n",
            "2560/2560 [==============================] - 136s 53ms/step - loss: 0.4627 - categorical_accuracy: 0.8363 - val_loss: 0.6066 - val_categorical_accuracy: 0.8078\n",
            "\n",
            "Epoch 00056: categorical_accuracy did not improve from 0.84570\n",
            "Epoch 57/75\n",
            "2560/2560 [==============================] - 135s 53ms/step - loss: 0.4284 - categorical_accuracy: 0.8434 - val_loss: 0.6322 - val_categorical_accuracy: 0.8203\n",
            "\n",
            "Epoch 00057: categorical_accuracy did not improve from 0.84570\n",
            "Epoch 58/75\n",
            "2560/2560 [==============================] - 135s 53ms/step - loss: 0.4229 - categorical_accuracy: 0.8543 - val_loss: 0.6208 - val_categorical_accuracy: 0.8516\n",
            "\n",
            "Epoch 00058: categorical_accuracy improved from 0.84570 to 0.85430, saving model to /content/drive/My Drive/Course_work_SLR/saved_models/model_weights.h5\n",
            "Epoch 59/75\n",
            "2560/2560 [==============================] - 135s 53ms/step - loss: 0.4642 - categorical_accuracy: 0.8344 - val_loss: 0.6332 - val_categorical_accuracy: 0.8141\n",
            "\n",
            "Epoch 00059: categorical_accuracy did not improve from 0.85430\n",
            "Epoch 60/75\n",
            "2560/2560 [==============================] - 135s 53ms/step - loss: 0.4242 - categorical_accuracy: 0.8539 - val_loss: 0.6129 - val_categorical_accuracy: 0.8250\n",
            "\n",
            "Epoch 00060: categorical_accuracy did not improve from 0.85430\n",
            "Epoch 61/75\n",
            "2560/2560 [==============================] - 135s 53ms/step - loss: 0.4309 - categorical_accuracy: 0.8539 - val_loss: 0.6344 - val_categorical_accuracy: 0.8156\n",
            "\n",
            "Epoch 00061: categorical_accuracy did not improve from 0.85430\n",
            "Epoch 62/75\n",
            "2560/2560 [==============================] - 135s 53ms/step - loss: 0.4030 - categorical_accuracy: 0.8594 - val_loss: 0.6151 - val_categorical_accuracy: 0.8219\n",
            "\n",
            "Epoch 00062: categorical_accuracy improved from 0.85430 to 0.85938, saving model to /content/drive/My Drive/Course_work_SLR/saved_models/model_weights.h5\n",
            "Epoch 63/75\n",
            "2560/2560 [==============================] - 135s 53ms/step - loss: 0.4054 - categorical_accuracy: 0.8578 - val_loss: 0.6089 - val_categorical_accuracy: 0.8141\n",
            "\n",
            "Epoch 00063: categorical_accuracy did not improve from 0.85938\n",
            "Epoch 64/75\n",
            "2560/2560 [==============================] - 135s 53ms/step - loss: 0.4049 - categorical_accuracy: 0.8562 - val_loss: 0.6210 - val_categorical_accuracy: 0.8234\n",
            "\n",
            "Epoch 00064: categorical_accuracy did not improve from 0.85938\n",
            "Epoch 65/75\n",
            "2560/2560 [==============================] - 135s 53ms/step - loss: 0.4078 - categorical_accuracy: 0.8602 - val_loss: 0.5856 - val_categorical_accuracy: 0.8297\n",
            "\n",
            "Epoch 00065: categorical_accuracy improved from 0.85938 to 0.86016, saving model to /content/drive/My Drive/Course_work_SLR/saved_models/model_weights.h5\n",
            "Epoch 66/75\n",
            "2560/2560 [==============================] - 136s 53ms/step - loss: 0.3912 - categorical_accuracy: 0.8602 - val_loss: 0.6095 - val_categorical_accuracy: 0.8313\n",
            "\n",
            "Epoch 00066: categorical_accuracy did not improve from 0.86016\n",
            "Epoch 67/75\n",
            "2560/2560 [==============================] - 136s 53ms/step - loss: 0.3537 - categorical_accuracy: 0.8758 - val_loss: 0.6129 - val_categorical_accuracy: 0.8359\n",
            "\n",
            "Epoch 00067: categorical_accuracy improved from 0.86016 to 0.87578, saving model to /content/drive/My Drive/Course_work_SLR/saved_models/model_weights.h5\n",
            "Epoch 68/75\n",
            "2560/2560 [==============================] - 136s 53ms/step - loss: 0.3966 - categorical_accuracy: 0.8598 - val_loss: 0.6084 - val_categorical_accuracy: 0.8281\n",
            "\n",
            "Epoch 00068: categorical_accuracy did not improve from 0.87578\n",
            "Epoch 69/75\n",
            "2560/2560 [==============================] - 135s 53ms/step - loss: 0.3746 - categorical_accuracy: 0.8680 - val_loss: 0.6189 - val_categorical_accuracy: 0.8328\n",
            "\n",
            "Epoch 00069: categorical_accuracy did not improve from 0.87578\n",
            "Epoch 70/75\n",
            "2560/2560 [==============================] - 135s 53ms/step - loss: 0.3789 - categorical_accuracy: 0.8617 - val_loss: 0.6064 - val_categorical_accuracy: 0.8250\n",
            "\n",
            "Epoch 00070: categorical_accuracy did not improve from 0.87578\n",
            "Epoch 71/75\n",
            "2560/2560 [==============================] - 135s 53ms/step - loss: 0.3904 - categorical_accuracy: 0.8633 - val_loss: 0.6422 - val_categorical_accuracy: 0.8266\n",
            "\n",
            "Epoch 00071: categorical_accuracy did not improve from 0.87578\n",
            "Epoch 72/75\n",
            "2560/2560 [==============================] - 135s 53ms/step - loss: 0.3844 - categorical_accuracy: 0.8613 - val_loss: 0.6239 - val_categorical_accuracy: 0.8297\n",
            "\n",
            "Epoch 00072: categorical_accuracy did not improve from 0.87578\n",
            "Epoch 73/75\n",
            "2560/2560 [==============================] - 135s 53ms/step - loss: 0.3943 - categorical_accuracy: 0.8617 - val_loss: 0.6139 - val_categorical_accuracy: 0.8328\n",
            "\n",
            "Epoch 00073: categorical_accuracy did not improve from 0.87578\n",
            "Epoch 74/75\n",
            "2560/2560 [==============================] - 135s 53ms/step - loss: 0.4013 - categorical_accuracy: 0.8535 - val_loss: 0.6377 - val_categorical_accuracy: 0.8125\n",
            "\n",
            "Epoch 00074: categorical_accuracy did not improve from 0.87578\n",
            "Epoch 75/75\n",
            "2560/2560 [==============================] - 135s 53ms/step - loss: 0.3895 - categorical_accuracy: 0.8645 - val_loss: 0.6225 - val_categorical_accuracy: 0.8313\n",
            "\n",
            "Epoch 00075: categorical_accuracy did not improve from 0.87578\n"
          ],
          "name": "stdout"
        },
        {
          "output_type": "execute_result",
          "data": {
            "text/plain": [
              "<keras.callbacks.callbacks.History at 0x7fbd5d0e1dd8>"
            ]
          },
          "metadata": {
            "tags": []
          },
          "execution_count": 17
        }
      ]
    },
    {
      "cell_type": "markdown",
      "metadata": {
        "id": "hu3R_aS8s4Ap",
        "colab_type": "text"
      },
      "source": [
        "### Plots"
      ]
    },
    {
      "cell_type": "code",
      "metadata": {
        "id": "diYsoLhjoBNY",
        "colab_type": "code",
        "outputId": "56d2ff4e-47e3-4734-ff7f-a0a186cc119e",
        "colab": {
          "base_uri": "https://localhost:8080/",
          "height": 573
        }
      },
      "source": [
        "show_plots('64 signs')"
      ],
      "execution_count": 0,
      "outputs": [
        {
          "output_type": "display_data",
          "data": {
            "image/png": "[encoded data removed]",
            "text/plain": [
              "<Figure size 432x288 with 1 Axes>"
            ]
          },
          "metadata": {
            "tags": [],
            "needs_background": "light"
          }
        },
        {
          "output_type": "display_data",
          "data": {
            "image/png": "[encoded data removed]",
            "text/plain": [
              "<Figure size 432x288 with 1 Axes>"
            ]
          },
          "metadata": {
            "tags": [],
            "needs_background": "light"
          }
        }
      ]
    },
    {
      "cell_type": "markdown",
      "metadata": {
        "id": "F6cWZF9ps9LJ",
        "colab_type": "text"
      },
      "source": [
        "### Evaluating"
      ]
    },
    {
      "cell_type": "code",
      "metadata": {
        "id": "wQ8P7YZgnrZu",
        "colab_type": "code",
        "colab": {}
      },
      "source": [
        "predictions = model.predict_classes(x_test)\n",
        "rounded_labels = np.argmax(y_test, axis=1)"
      ],
      "execution_count": 0,
      "outputs": []
    },
    {
      "cell_type": "code",
      "metadata": {
        "id": "Cn3Shtoqn3Vm",
        "colab_type": "code",
        "outputId": "9e713c98-21b7-4058-c418-bde1287e57e4",
        "colab": {
          "base_uri": "https://localhost:8080/",
          "height": 1000
        }
      },
      "source": [
        "print(classification_report(rounded_labels, predictions))"
      ],
      "execution_count": 0,
      "outputs": [
        {
          "output_type": "stream",
          "text": [
            "              precision    recall  f1-score   support\n",
            "\n",
            "           0       0.64      0.90      0.75        10\n",
            "           1       0.73      0.80      0.76        10\n",
            "           2       0.82      0.90      0.86        10\n",
            "           3       1.00      1.00      1.00        10\n",
            "           4       0.75      0.60      0.67        10\n",
            "           5       0.83      1.00      0.91        10\n",
            "           6       1.00      0.90      0.95        10\n",
            "           7       0.82      0.90      0.86        10\n",
            "           8       0.90      0.90      0.90        10\n",
            "           9       0.78      0.70      0.74        10\n",
            "          10       0.80      0.80      0.80        10\n",
            "          11       0.91      1.00      0.95        10\n",
            "          12       1.00      1.00      1.00        10\n",
            "          13       0.89      0.80      0.84        10\n",
            "          14       1.00      0.80      0.89        10\n",
            "          15       0.91      1.00      0.95        10\n",
            "          16       0.83      1.00      0.91        10\n",
            "          17       0.55      0.60      0.57        10\n",
            "          18       0.80      0.80      0.80        10\n",
            "          19       1.00      0.80      0.89        10\n",
            "          20       0.89      0.80      0.84        10\n",
            "          21       0.67      0.80      0.73        10\n",
            "          22       0.83      0.50      0.62        10\n",
            "          23       0.89      0.80      0.84        10\n",
            "          24       0.80      0.80      0.80        10\n",
            "          25       0.70      0.70      0.70        10\n",
            "          26       0.70      0.70      0.70        10\n",
            "          27       0.90      0.90      0.90        10\n",
            "          28       0.75      0.90      0.82        10\n",
            "          29       0.89      0.80      0.84        10\n",
            "          30       0.83      1.00      0.91        10\n",
            "          31       1.00      1.00      1.00        10\n",
            "          32       0.33      1.00      0.50        10\n",
            "          33       1.00      0.90      0.95        10\n",
            "          34       1.00      0.60      0.75        10\n",
            "          35       1.00      1.00      1.00        10\n",
            "          36       1.00      0.90      0.95        10\n",
            "          37       0.88      0.70      0.78        10\n",
            "          38       1.00      0.50      0.67        10\n",
            "          39       1.00      0.50      0.67        10\n",
            "          40       0.89      0.80      0.84        10\n",
            "          41       0.50      0.70      0.58        10\n",
            "          42       0.89      0.80      0.84        10\n",
            "          43       0.71      1.00      0.83        10\n",
            "          44       1.00      1.00      1.00        10\n",
            "          45       0.91      1.00      0.95        10\n",
            "          46       0.88      0.70      0.78        10\n",
            "          47       0.90      0.90      0.90        10\n",
            "          48       0.91      1.00      0.95        10\n",
            "          49       0.67      0.60      0.63        10\n",
            "          50       0.89      0.80      0.84        10\n",
            "          51       1.00      0.60      0.75        10\n",
            "          52       0.83      1.00      0.91        10\n",
            "          53       0.83      1.00      0.91        10\n",
            "          54       1.00      1.00      1.00        10\n",
            "          55       1.00      1.00      1.00        10\n",
            "          56       0.90      0.90      0.90        10\n",
            "          57       0.83      1.00      0.91        10\n",
            "          58       0.83      0.50      0.62        10\n",
            "          59       1.00      0.80      0.89        10\n",
            "          60       1.00      0.80      0.89        10\n",
            "          61       0.70      0.70      0.70        10\n",
            "          62       1.00      1.00      1.00        10\n",
            "          63       1.00      0.60      0.75        10\n",
            "\n",
            "    accuracy                           0.83       640\n",
            "   macro avg       0.86      0.83      0.83       640\n",
            "weighted avg       0.86      0.83      0.83       640\n",
            "\n"
          ],
          "name": "stdout"
        }
      ]
    }
  ]
}