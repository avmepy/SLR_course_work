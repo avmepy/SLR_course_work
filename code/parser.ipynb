{
  "nbformat": 4,
  "nbformat_minor": 0,
  "metadata": {
    "accelerator": "TPU",
    "colab": {
      "name": "parser.ipynb",
      "provenance": [],
      "collapsed_sections": [
        "oqVT6zi4FEvt"
      ],
      "machine_shape": "hm"
    },
    "kernelspec": {
      "display_name": "Python 3",
      "language": "python",
      "name": "python3"
    },
    "language_info": {
      "codemirror_mode": {
        "name": "ipython",
        "version": 3
      },
      "file_extension": ".py",
      "mimetype": "text/x-python",
      "name": "python",
      "nbconvert_exporter": "python",
      "pygments_lexer": "ipython3",
      "version": "3.6.2"
    },
    "toc": {
      "base_numbering": 1,
      "nav_menu": {},
      "number_sections": true,
      "sideBar": true,
      "skip_h1_title": false,
      "title_cell": "Table of Contents",
      "title_sidebar": "Contents",
      "toc_cell": false,
      "toc_position": {},
      "toc_section_display": true,
      "toc_window_display": false
    }
  },
  "cells": [
    {
      "cell_type": "markdown",
      "metadata": {
        "id": "zcAizxX9pBmL",
        "colab_type": "text"
      },
      "source": [
        "### Mount Drive and make imports"
      ]
    },
    {
      "cell_type": "code",
      "metadata": {
        "colab_type": "code",
        "id": "wOWtyctXdP5m",
        "outputId": "9b83a0d7-2cf0-408e-80ca-a92abf960096",
        "colab": {
          "base_uri": "https://localhost:8080/",
          "height": 122
        }
      },
      "source": [
        "from google.colab import drive\n",
        "drive.mount('/content/drive')"
      ],
      "execution_count": 0,
      "outputs": [
        {
          "output_type": "stream",
          "text": [
            "Go to this URL in a browser: https://accounts.google.com/o/oauth2/auth?client_id=947318989803-6bn6qk8qdgf4n4g3pfee6491hc0brc4i.apps.googleusercontent.com&redirect_uri=urn%3aietf%3awg%3aoauth%3a2.0%3aoob&response_type=code&scope=email%20https%3a%2f%2fwww.googleapis.com%2fauth%2fdocs.test%20https%3a%2f%2fwww.googleapis.com%2fauth%2fdrive%20https%3a%2f%2fwww.googleapis.com%2fauth%2fdrive.photos.readonly%20https%3a%2f%2fwww.googleapis.com%2fauth%2fpeopleapi.readonly\n",
            "\n",
            "Enter your authorization code:\n",
            "··········\n",
            "Mounted at /content/drive\n"
          ],
          "name": "stdout"
        }
      ]
    },
    {
      "cell_type": "code",
      "metadata": {
        "ExecuteTime": {
          "end_time": "2020-02-09T17:06:13.602558Z",
          "start_time": "2020-02-09T17:06:10.787198Z"
        },
        "colab_type": "code",
        "id": "feQKWVx5Gerb",
        "colab": {}
      },
      "source": [
        "import pickle\n",
        "import numpy as np\n",
        "import cv2\n",
        "import pylab as plt\n",
        "import os\n",
        "import time"
      ],
      "execution_count": 0,
      "outputs": []
    },
    {
      "cell_type": "markdown",
      "metadata": {
        "id": "mgCl3ya4kHQG",
        "colab_type": "text"
      },
      "source": [
        "### Declare needed constants"
      ]
    },
    {
      "cell_type": "code",
      "metadata": {
        "ExecuteTime": {
          "end_time": "2020-02-09T17:13:50.620926Z",
          "start_time": "2020-02-09T17:13:50.614473Z"
        },
        "colab_type": "code",
        "id": "ib0vs33GYncS",
        "outputId": "61d89cac-18f3-470e-d154-c56efc4d89bc",
        "colab": {
          "base_uri": "https://localhost:8080/",
          "height": 34
        }
      },
      "source": [
        "path = \"/content/drive/My Drive/Course_work_SLR/lsa64_raw_dataset/all\"\n",
        "load_path = '/content/drive/My Drive/Course_work_SLR/lsa64_raw_dataset'\n",
        "load_path_hands = '/content/drive/My Drive/Course_work_SLR/lsa64_raw_dataset/hands_masked'\n",
        "video_name = '{sign_num}_{human_num}_00{attempt_num}.mp4'\n",
        "print(path)\n",
        "\n",
        "FRAME_COUNT = 10  # number of frames, extracted from video\n",
        "SIGN_COUNT = 10  # total count of signs that will be parsed (max=64)\n",
        "FRAME_SIZE = (380, 212)  # resulting frame size after reshaping\n",
        "\n",
        "log = 1  # log mode\n",
        "BLUE = 60  # hue value for blue color\n",
        "PINK = 160  # hue value for pink color"
      ],
      "execution_count": 0,
      "outputs": [
        {
          "output_type": "stream",
          "text": [
            "/content/drive/My Drive/Course_work_SLR/lsa64_raw_dataset/all\n"
          ],
          "name": "stdout"
        }
      ]
    },
    {
      "cell_type": "markdown",
      "metadata": {
        "id": "2jPer7GAkmDG",
        "colab_type": "text"
      },
      "source": [
        "### Function for dumping data"
      ]
    },
    {
      "cell_type": "code",
      "metadata": {
        "id": "SZoSYWHjCsC7",
        "colab_type": "code",
        "colab": {}
      },
      "source": [
        "# need to copy Data.py file from Drive to use locally\n",
        "!cp \"/content/drive/My Drive/Course_work_SLR/src/Data.py\" ."
      ],
      "execution_count": 0,
      "outputs": []
    },
    {
      "cell_type": "code",
      "metadata": {
        "id": "-9hxboE_IQnJ",
        "colab_type": "code",
        "colab": {}
      },
      "source": [
        "from Data import Data\n",
        "\n",
        "def dump_to_file(x_train, x_test, y_train, y_test, file_name, load_path=load_path):\n",
        "    res = Data(x_train, x_test, y_train, y_test)\n",
        "    with open(os.path.join(load_path, file_name), 'wb') as fout:\n",
        "        pickle.dump(res, fout)\n"
      ],
      "execution_count": 0,
      "outputs": []
    },
    {
      "cell_type": "markdown",
      "metadata": {
        "id": "VavEjn8Tn3uf",
        "colab_type": "text"
      },
      "source": [
        "### Functions for frames proccesing"
      ]
    },
    {
      "cell_type": "code",
      "metadata": {
        "id": "uXQttgEBfWnx",
        "colab_type": "code",
        "colab": {}
      },
      "source": [
        "def apply_mask(frame, color, gap=10, lower_s=50, lower_v=50, upper_s=255, upper_v=255):\n",
        "    \"\"\"\n",
        "    :param: color - must be an integer representing H-value of color in HSV format\n",
        "    :return: resulting mask\n",
        "    \"\"\"\n",
        "    # add some gap\n",
        "    lower_bound = np.array([color - gap, lower_s, lower_v])\n",
        "    upper_bound = np.array([color + gap, upper_s, upper_v])\n",
        "    \n",
        "    # first num є [0, 180]\n",
        "    if (lower_bound[0] < 0): \n",
        "        lower_bound[0] = 0\n",
        "    if (upper_bound[0] > 180):\n",
        "        upper_bound[0] = 180\n",
        "    return cv2.inRange(frame, lower_bound, upper_bound)\n",
        "\n",
        "def parse_frame(frame, colors):\n",
        "    \"\"\"\n",
        "    :param frame: original frame\n",
        "    :param colors: iterable of integers represinting H value of the color\n",
        "    :return: parsed frame\n",
        "    \"\"\"\n",
        "    resized = cv2.resize(frame, FRAME_SIZE)  # resize frame\n",
        "\n",
        "    hsv = cv2.cvtColor(resized, cv2.COLOR_BGR2HSV)  # from RGB to HSV\n",
        "    \n",
        "    masks = []\n",
        "    for h in colors:\n",
        "        masks.append(apply_mask(hsv, h))\n",
        "    \n",
        "    mask = sum(masks)\n",
        "    mask = cv2.morphologyEx(mask, cv2.MORPH_OPEN, np.ones((3,3),np.uint8))\n",
        "    mask = cv2.morphologyEx(mask, cv2.MORPH_DILATE, np.ones((3,3),np.uint8))\n",
        "\n",
        "    # Segmenting the cloth out of the frame using bitwise_and with the inverted mask\n",
        "    masked = cv2.bitwise_and(hsv, hsv, mask=mask)\n",
        "    h, s, masked_grey = cv2.split(masked)\n",
        "    return masked_grey"
      ],
      "execution_count": 0,
      "outputs": []
    },
    {
      "cell_type": "markdown",
      "metadata": {
        "id": "PydIhFcKoRtz",
        "colab_type": "text"
      },
      "source": [
        "### Parse SIGN_COUNT signs from dataset"
      ]
    },
    {
      "cell_type": "code",
      "metadata": {
        "id": "Kg23YGQTFXdT",
        "colab_type": "code",
        "outputId": "7e19c5fb-5e0e-4d4a-be65-8f3fa38e4168",
        "colab": {
          "base_uri": "https://localhost:8080/",
          "height": 204
        }
      },
      "source": [
        "x_train = []\n",
        "x_test = []\n",
        "y_train = []\n",
        "y_test = []\n",
        "\n",
        "start = time.time()\n",
        "\n",
        "for sign in range(1, SIGN_COUNT + 1):\n",
        "    if log > 0: \n",
        "        print(f'Sign {sign}')\n",
        "    for human in range(1, 11):\n",
        "        if log > 1:\n",
        "            print(f'Sign {sign} human {human}')\n",
        "        for attempt in range(1, 6):\n",
        "            cur = os.path.join(path,\n",
        "                                video_name.format(sign_num=str(sign).rjust(3, \"0\"),\n",
        "                                                    human_num=str(human).rjust(3, \"0\"),\n",
        "                                                    attempt_num=attempt))\n",
        "            cap = cv2.VideoCapture(cur)\n",
        "            length = int(cap.get(cv2.CAP_PROP_FRAME_COUNT))  # total number of frames\n",
        "            frame_step = int(length / FRAME_COUNT)  # every frame_step's frame is taken\n",
        "            \n",
        "            frame_num = 0  # current frame num\n",
        "            cur_sign = []\n",
        "            \n",
        "            while cap.isOpened():\n",
        "                frame_num += 1\n",
        "                if not cap.grab():\n",
        "                    break\n",
        "                if frame_num % frame_step != 0:\n",
        "                    continue\n",
        "                ret, frame = cap.retrieve()\n",
        "                \n",
        "                masked_grey = parse_frame(frame, (BLUE, PINK))\n",
        "\n",
        "                cur_sign.append(masked_grey)\n",
        "                \n",
        "                if cv2.waitKey(1) & 0xFF == ord('q'):\n",
        "                    break\n",
        "                    \n",
        "            if attempt == 5:  # every 5-th attempt - test\n",
        "                x_test.append(np.array(cur_sign[:FRAME_COUNT]))\n",
        "                y_test.append(sign - 1)\n",
        "            else:\n",
        "                x_train.append(np.array(cur_sign[:FRAME_COUNT]))\n",
        "                y_train.append(sign - 1)\n",
        "\n",
        "if log > 0:\n",
        "    delta = time.time() - start\n",
        "    print(f'{delta//60} m {int(delta%60)} s elapsed...')"
      ],
      "execution_count": 0,
      "outputs": [
        {
          "output_type": "stream",
          "text": [
            "Sign 1\n",
            "Sign 2\n",
            "Sign 3\n",
            "Sign 4\n",
            "Sign 5\n",
            "Sign 6\n",
            "Sign 7\n",
            "Sign 8\n",
            "Sign 9\n",
            "Sign 10\n",
            "4.0 m 48 s elapsed...\n"
          ],
          "name": "stdout"
        }
      ]
    },
    {
      "cell_type": "code",
      "metadata": {
        "id": "B6dNLV6QKwd0",
        "colab_type": "code",
        "colab": {}
      },
      "source": [
        "x_train = np.array(x_train)\n",
        "x_test = np.array(x_test)\n",
        "y_train = np.array(y_train)\n",
        "y_test = np.array(y_test)"
      ],
      "execution_count": 0,
      "outputs": []
    },
    {
      "cell_type": "code",
      "metadata": {
        "id": "RA-h06Rp5_Ul",
        "colab_type": "code",
        "colab": {}
      },
      "source": [
        "# # if need only to visualize already parsed data\n",
        "# # import Data class from My drive\n",
        "# !cp \"/content/drive/My Drive/Course_work_SLR/src/Data.py\" .\n",
        "# from Data import Data\n",
        "# with open('/content/drive/My Drive/Course_work_SLR/lsa64_raw_dataset/hands_masked/masked_data_64.pkl', 'rb') as file:\n",
        "#     data = pickle.load(file)\n",
        "# x_train, x_test, y_train, y_test = data.x_train, data.x_test, data.y_train, data.y_test"
      ],
      "execution_count": 0,
      "outputs": []
    },
    {
      "cell_type": "code",
      "metadata": {
        "ExecuteTime": {
          "end_time": "2020-02-09T17:14:52.974135Z",
          "start_time": "2020-02-09T17:14:52.965183Z"
        },
        "colab_type": "code",
        "id": "3PIr3jIv_Uqy",
        "outputId": "c88d3b6b-9bfa-4296-a688-7ac8282366f0",
        "colab": {
          "base_uri": "https://localhost:8080/",
          "height": 34
        }
      },
      "source": [
        "x_train.shape"
      ],
      "execution_count": 0,
      "outputs": [
        {
          "output_type": "execute_result",
          "data": {
            "text/plain": [
              "(400, 10, 212, 380)"
            ]
          },
          "metadata": {
            "tags": []
          },
          "execution_count": 10
        }
      ]
    },
    {
      "cell_type": "markdown",
      "metadata": {
        "id": "ANHYwr1moqcC",
        "colab_type": "text"
      },
      "source": [
        "### Visualize examples for each sign (1 image per sign)"
      ]
    },
    {
      "cell_type": "code",
      "metadata": {
        "id": "t1kbtOaYINDq",
        "colab_type": "code",
        "colab": {}
      },
      "source": [
        "test_data = []\n",
        "t = 0\n",
        "r = 0\n",
        "for i in range(8):\n",
        "    test_data.append([])\n",
        "    for j in range(8):\n",
        "        test_data[r].append(x_train[40*t][0])\n",
        "        t += 1\n",
        "    r += 1\n",
        "\n",
        "test_data = np.array(test_data)"
      ],
      "execution_count": 0,
      "outputs": []
    },
    {
      "cell_type": "code",
      "metadata": {
        "id": "VGOHoSXrKCOO",
        "colab_type": "code",
        "outputId": "c7cdf5cb-0c16-4863-d4d4-04e3857092dc",
        "colab": {
          "base_uri": "https://localhost:8080/",
          "height": 34
        }
      },
      "source": [
        "test_data.shape"
      ],
      "execution_count": 0,
      "outputs": [
        {
          "output_type": "execute_result",
          "data": {
            "text/plain": [
              "(8, 8, 212, 380)"
            ]
          },
          "metadata": {
            "tags": []
          },
          "execution_count": 40
        }
      ]
    },
    {
      "cell_type": "code",
      "metadata": {
        "id": "gb5kunkDJC3v",
        "colab_type": "code",
        "outputId": "34bc29a9-f862-48f5-d368-1ca4ad7cba71",
        "colab": {
          "base_uri": "https://localhost:8080/",
          "height": 593
        }
      },
      "source": [
        "heights = [a[0].shape[0] for a in test_data]\n",
        "widths = [a.shape[1] for a in test_data[0]]\n",
        "\n",
        "fig_width = 14.  # inches\n",
        "fig_height = fig_width * sum(heights) / sum(widths)\n",
        "\n",
        "f, axarr = plt.subplots(8, 8, figsize=(fig_width, fig_height),\n",
        "        gridspec_kw={'height_ratios':heights})\n",
        "\n",
        "for i in range(8):\n",
        "    for j in range(8):\n",
        "        axarr[i, j].imshow(test_data[i][j])\n",
        "        axarr[i, j].axis('off')\n",
        "plt.subplots_adjust(wspace=0, hspace=0.05, left=0, right=1, bottom=0, top=1)\n",
        "plt.show()"
      ],
      "execution_count": 0,
      "outputs": [
        {
          "output_type": "display_data",
          "data": {
            "image/png": "[encoded data removed]",
            "text/plain": [
              "<Figure size 1008x562.358 with 64 Axes>"
            ]
          },
          "metadata": {
            "tags": [],
            "needs_background": "light"
          }
        }
      ]
    },
    {
      "cell_type": "markdown",
      "metadata": {
        "id": "PiRT9ZECo7l9",
        "colab_type": "text"
      },
      "source": [
        "### Dump parsed data to corresponding file"
      ]
    },
    {
      "cell_type": "code",
      "metadata": {
        "colab_type": "code",
        "id": "l9gBCqed_Uq7",
        "colab": {}
      },
      "source": [
        "dump_to_file(x_train, x_test, y_train, y_test, file_name=f'masked_data_{SIGN_COUNT}.pkl', load_path=load_path_hands)"
      ],
      "execution_count": 0,
      "outputs": []
    },
    {
      "cell_type": "code",
      "metadata": {
        "id": "dNPp_P7WRBzZ",
        "colab_type": "code",
        "colab": {}
      },
      "source": [
        ""
      ],
      "execution_count": 0,
      "outputs": []
    }
  ]
}